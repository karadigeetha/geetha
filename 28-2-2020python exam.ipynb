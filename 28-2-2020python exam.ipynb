{
 "cells": [
  {
   "cell_type": "markdown",
   "metadata": {},
   "source": [
    "15,2\n",
    "\n",
    "* 2.create a function to find the armstrong number in the range of 100-200\n",
    "* 15.sum of digits of a given number"
   ]
  },
  {
   "cell_type": "code",
   "execution_count": 3,
   "metadata": {},
   "outputs": [
    {
     "name": "stdout",
     "output_type": "stream",
     "text": [
      "enter number:425\n",
      "the sum of digits of a given number is 11\n"
     ]
    }
   ],
   "source": [
    "## sum of digits in a given number\n",
    "n=int(input(\"enter number:\"))\n",
    "s=0\n",
    "d=0\n",
    "while n>0:\n",
    "    d=n%10\n",
    "    n=n//10\n",
    "    s+=d\n",
    "print(\"the sum of digits of a given number is\",s)\n",
    "    "
   ]
  },
  {
   "cell_type": "code",
   "execution_count": 24,
   "metadata": {},
   "outputs": [
    {
     "ename": "IndentationError",
     "evalue": "expected an indented block (<ipython-input-24-a0c35ced88b6>, line 2)",
     "output_type": "error",
     "traceback": [
      "\u001b[1;36m  File \u001b[1;32m\"<ipython-input-24-a0c35ced88b6>\"\u001b[1;36m, line \u001b[1;32m2\u001b[0m\n\u001b[1;33m    for i in range(100,201)\u001b[0m\n\u001b[1;37m      ^\u001b[0m\n\u001b[1;31mIndentationError\u001b[0m\u001b[1;31m:\u001b[0m expected an indented block\n"
     ]
    }
   ],
   "source": [
    "def arms():\n",
    "for i in range(100,201)\n",
    "if s=s+(r*r*r)\n",
    "    print(\"given number is armstrong\")\n",
    "else:\n",
    "    print(\"given number is not an armstrong number\")"
   ]
  },
  {
   "cell_type": "code",
   "execution_count": null,
   "metadata": {},
   "outputs": [],
   "source": []
  }
 ],
 "metadata": {
  "kernelspec": {
   "display_name": "Python 3",
   "language": "python",
   "name": "python3"
  },
  "language_info": {
   "codemirror_mode": {
    "name": "ipython",
    "version": 3
   },
   "file_extension": ".py",
   "mimetype": "text/x-python",
   "name": "python",
   "nbconvert_exporter": "python",
   "pygments_lexer": "ipython3",
   "version": "3.7.3"
  }
 },
 "nbformat": 4,
 "nbformat_minor": 2
}
